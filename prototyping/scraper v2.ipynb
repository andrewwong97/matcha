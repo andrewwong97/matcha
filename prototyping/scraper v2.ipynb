{
 "cells": [
  {
   "cell_type": "code",
   "execution_count": 4,
   "metadata": {},
   "outputs": [],
   "source": [
    "# import wikipedia\n",
    "# import twitter\n",
    "# import nltk\n",
    "# import numpy as np\n",
    "# import pandas as pd\n",
    "# import geocoder\n",
    "from pylinkedin.scraper import LinkedinItem\n",
    "# import re\n",
    "# from SECEdgar.crawler import SecCrawler\n",
    "from requests import get\n",
    "from bs4 import BeautifulSoup\n",
    "import csv"
   ]
  },
  {
   "cell_type": "code",
   "execution_count": 5,
   "metadata": {},
   "outputs": [],
   "source": [
    "def getUserSkillProf(user):\n",
    "    li = LinkedinItem(url = 'https://www.linkedin.com/in/' + user.replace(' ', '').lower())\n",
    "\n",
    "    user_skill_profile = dict.fromKeys(li.skills)\n",
    "    \n",
    "    for experience in li.experiences:\n",
    "        company_skills = getCompanySkillProf(experience.company)\n",
    "        \n",
    "        for skill in company_skills:\n",
    "            if skill in user_skill_profile:\n",
    "                user_skill_profile[skill] += company_skills[skills]\n",
    "    \n",
    "    return user_skill_profile\n",
    "    "
   ]
  },
  {
   "cell_type": "code",
   "execution_count": 6,
   "metadata": {
    "collapsed": true
   },
   "outputs": [],
   "source": [
    "def getCompanySkillProf(company):\n",
    "    li = LinkedinItem(url = 'https://www.linkedin.com/in/' + company.replace(' ', '').lower())\n",
    "    \n",
    "    employees = li.employees\n",
    "\n",
    "    company_skil_profile = {}\n",
    "\n",
    "    for employee in employees:\n",
    "        # ideally this would call the makeUserSkillProf, but because the two functions are interlaced\n",
    "        # i stopped it from looping potentially infinitely, and instead only goes one layer deep\n",
    "        li = LinkedinItem(url = 'https://www.linkedin.com/in/' + employee.replace(' ', '').lower())\n",
    "\n",
    "        for skill in li.skills:\n",
    "            if skill not in company_skill_profile:\n",
    "                company_skill_profile[skill] = 1\n",
    "            else:\n",
    "                company_skill_profile[skill] += 1\n",
    "                \n",
    "    return company_skil_profile"
   ]
  },
  {
   "cell_type": "code",
   "execution_count": 7,
   "metadata": {
    "collapsed": true
   },
   "outputs": [],
   "source": [
    "def getPairwiseVector(user_prof, company_prof):\n",
    "    maxSkillLength = 10\n",
    "    user = sorted(user_prof, key=user_prof.get)[:maxSkillLength]\n",
    "    company = sorted(company_prof, key=company_prof.get)[:maxSkillLength]\n",
    "    \n",
    "    pairing = []\n",
    "    for i in range(maxSkillLength):\n",
    "        pairing[i] = user[i]/company[i]\n",
    "    \n",
    "    return pairing"
   ]
  },
  {
   "cell_type": "code",
   "execution_count": null,
   "metadata": {
    "collapsed": true
   },
   "outputs": [],
   "source": [
    "def saveTrainingPair(user, company, veracity):\n",
    "    with open('~/Downloads/training.csv', 'wb') as csvfile:\n",
    "        csvwriter = csv.writer(csvfile, delimiter=' ', quotechar='|', quoting=csv.QUOTE_MINIMAL)\n",
    "        csvwriter.writerow([getUserSkillProf(user), getCompanySkillProf(company), veracity])"
   ]
  },
  {
   "cell_type": "code",
   "execution_count": null,
   "metadata": {},
   "outputs": [],
   "source": [
    "from numpy import genfromtxt\n",
    "from sklearn import svm\n",
    "\n",
    "training_vectors = genfromtxt('~/Downloads/training.csv', delimiter=',')\n",
    "\n"
   ]
  },
  {
   "cell_type": "code",
   "execution_count": null,
   "metadata": {
    "collapsed": true
   },
   "outputs": [],
   "source": []
  }
 ],
 "metadata": {
  "celltoolbar": "Raw Cell Format",
  "kernelspec": {
   "display_name": "Python 2",
   "language": "python",
   "name": "python2"
  },
  "language_info": {
   "codemirror_mode": {
    "name": "ipython",
    "version": 2
   },
   "file_extension": ".py",
   "mimetype": "text/x-python",
   "name": "python",
   "nbconvert_exporter": "python",
   "pygments_lexer": "ipython2",
   "version": "2.7.14"
  }
 },
 "nbformat": 4,
 "nbformat_minor": 2
}
